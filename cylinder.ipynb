{
 "cells": [
  {
   "cell_type": "code",
   "execution_count": 1,
   "metadata": {},
   "outputs": [],
   "source": [
    "import numpy as np\n",
    "import scipy.constants\n",
    "import math\n",
    "import re"
   ]
  },
  {
   "cell_type": "code",
   "execution_count": 2,
   "metadata": {},
   "outputs": [],
   "source": [
    "class Vector:\n",
    "    def __init__(self, x0, x1, x2):\n",
    "        self.array = np.array([x0, x1, x2])\n",
    "    \n",
    "    def length(self):\n",
    "        return np.linalg.norm(self.array)"
   ]
  },
  {
   "cell_type": "code",
   "execution_count": 3,
   "metadata": {},
   "outputs": [],
   "source": [
    "class QuantityDimension:\n",
    "    def __init__(self, L=0, M=0, T=0, I=0, Θ=0, N=0, J=0):\n",
    "        self.L = L\n",
    "        self.M = M\n",
    "        self.T = T\n",
    "        self.I = I\n",
    "        self.Θ = Θ\n",
    "        self.J = J\n",
    " \n",
    "    def getDimensions():\n",
    "        return M"
   ]
  },
  {
   "cell_type": "code",
   "execution_count": 4,
   "metadata": {},
   "outputs": [],
   "source": [
    "class QuantityValue:\n",
    "    def __init__(self, number, reference, standardUncertainty):\n",
    "        self.number = number\n",
    "        self.reference = reference\n",
    "        self.standardUncertainty = abs(standardUncertainty)\n",
    "        self.relativeUncertainty = self.standardUncertainty / abs(self.number)\n",
    "        \n",
    "        self.referenceList = [re.split('\\^', unit) for unit in re.split('\\s+', self.reference)]\n",
    "        self.dimList = filter(lambda i: (i[0] != '1' and i[0] != ''), [[dim[0], int(dim[1]) if len(dim) == 2 else 1] for dim in self.referenceList])\n",
    "        self.dimDict = {}\n",
    "        self.updateDims()\n",
    "        \n",
    "    def updateDims(self):\n",
    "        for i in self.dimList:\n",
    "            self.dimDict[i[0]] = (self.dimDict[i[0]] + i[1]) if i[0] in self.dimDict else i[1]\n",
    "        self.reference = ''\n",
    "        for key, exp in list(self.dimDict.items()):\n",
    "            if exp == 0:\n",
    "                del self.dimDict[key]\n",
    "                continue\n",
    "            self.reference += '{}{}{}'.format(\n",
    "                '' if self.reference == '' else ' ',\n",
    "                key if exp !=0 else '',\n",
    "                '^' + str(exp) if (exp != 0 and exp != 1) else '')\n",
    "                               \n",
    "    def __str__(self):\n",
    "        exponent = math.floor(math.log10(abs(self.number)))\n",
    "        engExponent = math.floor(exponent / 3) * 3\n",
    "        engMantissa = self.number / 10**engExponent\n",
    "        if self.standardUncertainty != 0:\n",
    "            uncertaintyExponent = math.floor(math.log10(self.standardUncertainty))\n",
    "            uncertaintyMantissa = self.standardUncertainty / 10**(uncertaintyExponent-1)\n",
    "            numDigits = engExponent - uncertaintyExponent + 1\n",
    "            uncertaintyStr = '(' + '{:.0f}'.format(uncertaintyMantissa) + ')'\n",
    "        else:\n",
    "            numDigits = '4'\n",
    "            uncertaintyStr = '(...)'\n",
    "        if engExponent != 0:\n",
    "            exponentStr = 'e' + repr(engExponent)\n",
    "        else:\n",
    "            exponentStr = \"\"\n",
    "        return '{:.{}f}'.format(engMantissa, numDigits) + uncertaintyStr + exponentStr + ' ' + self.reference\n",
    "    \n",
    "    def __repr__(self):\n",
    "        return self.__str__()\n",
    "    \n",
    "    def invReference(self):\n",
    "        referenceStr = ''\n",
    "        for key in self.dimDict:\n",
    "            exp = -1 * self.dimDict[key]\n",
    "            referenceStr += '{}{}{}'.format(\n",
    "                '' if referenceStr == '' else ' ',\n",
    "                key if exp != 0 else '',\n",
    "                '^' + str(exp) if (exp != 0 and exp != 1) else ''\n",
    "            )\n",
    "        return referenceStr\n",
    "    \n",
    "    def exp(self):\n",
    "        if self.dimDict == {}:\n",
    "            return QuantityValue(math.exp(self.number),\n",
    "                                 '',\n",
    "                                 math.exp(self.number) * self.standardUncertainty)\n",
    "        else:\n",
    "            raise TypeError(\"exp function only applies to quantities of dimension 1\")\n",
    "            \n",
    "    def sqrt(self):\n",
    "        result = QuantityValue(math.sqrt(self.number),\n",
    "                             self.reference,\n",
    "                             math.sqrt(self.number) * 0.5 * self.relativeUncertainty)\n",
    "        result.dimDict = {key: int(value / 2) for key, value in self.dimDict.items()}\n",
    "        result.updateDims()\n",
    "        return result\n",
    "            \n",
    "    def __add__(self, other):\n",
    "        if isinstance(other, self.__class__) and self.dimDict == other.dimDict:\n",
    "            return QuantityValue(self.number + other.number,\n",
    "                                 self.reference,\n",
    "                                 math.sqrt(self.standardUncertainty**2 + other.standardUncertainty**2))\n",
    "        elif isinstance(other, (int, float)) and self.dimDict == {}:\n",
    "            return QuantityValue(other + self.number,\n",
    "                             self.reference,\n",
    "                             abs(other) * self.standardUncertainty)\n",
    "        else:\n",
    "            raise TypeError(\"cannot add values with different quantity dimensions\",\n",
    "                            self.__str__(), self.__class__, other.__str__(), other.__class__)\n",
    "    \n",
    "    def __radd__(self, other):\n",
    "        return self.__add__(other)\n",
    "    \n",
    "    def __sub__(self,other):\n",
    "        if isinstance(other, self.__class__) and self.dimDict == other.dimDict:\n",
    "            return QuantityValue(self.number - other.number,\n",
    "                                 self.reference,\n",
    "                                 math.sqrt(self.standardUncertainty**2 + other.standardUncertainty**2))\n",
    "        else:\n",
    "            raise TypeError(\"cannot subtract values with different quantity dimensions\")\n",
    "                               \n",
    "    def __mul__(self, other):\n",
    "        if isinstance(other, self.__class__):\n",
    "            return QuantityValue(self.number * other.number,\n",
    "                                 self.reference + ' ' + other.reference,\n",
    "                                 abs(self.number * other.number) \n",
    "                                 * math.sqrt(self.relativeUncertainty**2 + other.relativeUncertainty**2))\n",
    "        elif isinstance(other, (int, float)):\n",
    "            return QuantityValue(other * self.number,\n",
    "                             self.reference,\n",
    "                             abs(other) * self.standardUncertainty)\n",
    "        else:\n",
    "            raise TypeError(\"types not supported for multiplication:,\", self.__str__(), self.__class__, other.__str__(), other.__class__)\n",
    "    \n",
    "    def __rmul__(self, other):\n",
    "        return self.__mul__(other)\n",
    "                        \n",
    "    def __truediv__(self, other):\n",
    "        if isinstance(other, self.__class__):\n",
    "            return QuantityValue(self.number / other.number,\n",
    "                                 self.reference + ' ' + other.invReference(),\n",
    "                                 abs(self.number / other.number) \n",
    "                                 * math.sqrt(self.relativeUncertainty**2 + other.relativeUncertainty**2))\n",
    "        elif isinstance(other, (int, float)):\n",
    "            return QuantityValue(self.number / other,\n",
    "                             self.reference,\n",
    "                             abs(1 / other) * self.standardUncertainty)\n",
    "    \n",
    "    def __rtruediv__(self, other):\n",
    "        if isinstance(other, (int, float)):\n",
    "            return QuantityValue(other / self.number,\n",
    "                             self.reference,\n",
    "                             abs(other) * math.sqrt(self.relativeUncertainty**2))\n",
    "        else:\n",
    "            raise TypeError(\"types not supported for division\")\n",
    "    \n",
    "    def __neg__(self):\n",
    "        return QuantityValue(-1 * self.number,\n",
    "                             self.reference,\n",
    "                             self.standardUncertainty)"
   ]
  },
  {
   "cell_type": "code",
   "execution_count": 5,
   "metadata": {},
   "outputs": [],
   "source": [
    "def getScipyConstant(key):\n",
    "    return QuantityValue(scipy.constants.value(key),\n",
    "                  scipy.constants.unit(key),\n",
    "                  scipy.constants.precision(key) * abs(scipy.constants.value(key)))"
   ]
  },
  {
   "cell_type": "code",
   "execution_count": 33,
   "metadata": {},
   "outputs": [],
   "source": [
    "pi = scipy.constants.pi\n",
    "G = getScipyConstant('Newtonian constant of gravitation')\n",
    "c = getScipyConstant('speed of light in vacuum')\n",
    "g = getScipyConstant('standard acceleration of gravity')\n",
    "mu_0 = getScipyConstant('mag. constant')"
   ]
  },
  {
   "cell_type": "markdown",
   "metadata": {},
   "source": [
    "- Mass flow past skyhook, $mV_O$\n",
    "- Velocity change at skyhook, $V_O\\Delta\\theta$\n",
    "- Rate of change of momentum, $mV^2_O\\Delta\\theta$\n",
    "- Resultant force of tension, $F_T = mV^2_O\\Delta\\theta$"
   ]
  },
  {
   "cell_type": "markdown",
   "metadata": {},
   "source": [
    "$P = \\exp(\\frac{-\\rho g H}{Y})$"
   ]
  },
  {
   "cell_type": "markdown",
   "metadata": {},
   "source": [
    "$A_T = A_0 \\exp(\\frac{\\rho g}{Y} \\cdot \\frac{RH}{R+H})$"
   ]
  },
  {
   "cell_type": "code",
   "execution_count": 7,
   "metadata": {},
   "outputs": [],
   "source": [
    "def areaTop(payload, density, tensileStrength, altitude):\n",
    "    return payload * g / tensileStrength * (density * g / tensileStrength * altitude / (1 + altitude / R_Earth)).exp()"
   ]
  },
  {
   "cell_type": "code",
   "execution_count": 8,
   "metadata": {},
   "outputs": [],
   "source": [
    "def forceTop(payload, density, tensileStrength, altitude):\n",
    "    return payload * g * (density * g / tensileStrength * altitude / (1 + altitude / R_Earth)).exp()"
   ]
  },
  {
   "cell_type": "code",
   "execution_count": 65,
   "metadata": {},
   "outputs": [],
   "source": [
    "linearDensity = QuantityValue(0.1, 'kg m^-1', 0)\n",
    "angle = QuantityValue(0.25, '1', 0)\n",
    "altitude = QuantityValue(300e3, 'm', 5e3)\n",
    "R_Earth = QuantityValue(6378137, 'm', 2) #WGS84\n",
    "M_Earth = QuantityValue(5.972E24, 'kg', 0)\n",
    "payload = QuantityValue(1.5E3, 'kg', 0)\n",
    "tensileStrength = QuantityValue(3E9, 'kg m s^-2 m^-2', 0)\n",
    "massFlowRate = 1 # kg/s\n",
    "massDepositionEfficiency = .5\n",
    "speed = (G * M_Earth / (R_Earth + altitude)).sqrt()\n",
    "ladderDensity = QuantityValue(2e3, 'kg m^-3', 500)\n",
    "hookMass = QuantityValue(5e3, 'kg', 2.5e3)\n",
    "P = (-ladderDensity * g / tensileStrength * altitude).exp()\n",
    "ladderMass = payload / P\n",
    "ringMass = ((R_Earth + altitude) * linearDensity * 2 * math.pi)\n",
    "hookLift = linearDensity * speed * speed * angle\n",
    "numHooks = 2\n",
    "totalMass = (ringMass + (numHooks * hookMass) + (numHooks * ladderMass))\n",
    "numLaunches = totalMass / QuantityValue(63800, 'kg launches^-1', 0)\n",
    "force = forceTop(payload, ladderDensity, tensileStrength, altitude)\n",
    "hookLoad = force + hookMass * g * R_Earth*R_Earth/(R_Earth+altitude)/(R_Earth+altitude)\n",
    "area = areaTop(payload, ladderDensity, tensileStrength, altitude)\n",
    "B = QuantityValue(3.5, 'kg A^-1 s^-2', 0)\n",
    "I = QuantityValue(100000, 'A', 0)"
   ]
  },
  {
   "cell_type": "code",
   "execution_count": 66,
   "metadata": {},
   "outputs": [
    {
     "name": "stdout",
     "output_type": "stream",
     "text": [
      "Altitude: 300.0(50)e3 m\n",
      "Ring speed: 7.7255(29)e3 m s^-1\n",
      "Hook capacity: 1.49209(79)e6 kg s^-2 m\n",
      "Hook load: 140(50)e3 kg m s^-2\n",
      "Design payload: 1.5000(...)e3 kg\n",
      "\n",
      "Ring mass: 4.1960(31)e6 kg\n",
      "Hook mass: 5.0(25)e3 kg\n",
      "Ladder mass: 10.7(52)e3 kg\n",
      "Total mass: 4.227(12)e6 kg\n",
      "\n",
      "Launches: 66.26(19) launches\n"
     ]
    }
   ],
   "source": [
    "print('Altitude: {}\\nRing speed: {}\\nHook capacity: {}\\nHook load: {}\\nDesign payload: {}\\n\\nRing mass: {}\\nHook mass: {}\\nLadder mass: {}\\nTotal mass: {}\\n\\nLaunches: {}'.format(\n",
    "    altitude, speed, hookLift, hookLoad, payload, ringMass, hookMass, ladderMass, totalMass, numLaunches))"
   ]
  },
  {
   "cell_type": "code",
   "execution_count": 67,
   "metadata": {},
   "outputs": [
    {
     "data": {
      "text/plain": [
       "3.5000(...) kg A^-1 s^-2"
      ]
     },
     "execution_count": 67,
     "metadata": {},
     "output_type": "execute_result"
    }
   ],
   "source": [
    "B"
   ]
  },
  {
   "cell_type": "code",
   "execution_count": 77,
   "metadata": {},
   "outputs": [],
   "source": [
    "x = QuantityValue(0.001, 'm', 0)"
   ]
  },
  {
   "cell_type": "code",
   "execution_count": 78,
   "metadata": {},
   "outputs": [
    {
     "data": {
      "text/plain": [
       "9.7482(...) kg^2 s^-4 m^2 N^-1"
      ]
     },
     "execution_count": 78,
     "metadata": {},
     "output_type": "execute_result"
    }
   ],
   "source": [
    "B * B * x * x / mu_0"
   ]
  },
  {
   "cell_type": "code",
   "execution_count": 79,
   "metadata": {},
   "outputs": [
    {
     "data": {
      "text/plain": [
       "4.0000(...)e6 N"
      ]
     },
     "execution_count": 79,
     "metadata": {},
     "output_type": "execute_result"
    }
   ],
   "source": [
    "I * I * 1000 * x * mu_0 / math.pi / x"
   ]
  },
  {
   "cell_type": "code",
   "execution_count": null,
   "metadata": {},
   "outputs": [],
   "source": []
  }
 ],
 "metadata": {
  "kernelspec": {
   "display_name": "Python 3",
   "language": "python",
   "name": "python3"
  },
  "language_info": {
   "codemirror_mode": {
    "name": "ipython",
    "version": 3
   },
   "file_extension": ".py",
   "mimetype": "text/x-python",
   "name": "python",
   "nbconvert_exporter": "python",
   "pygments_lexer": "ipython3",
   "version": "3.6.4"
  }
 },
 "nbformat": 4,
 "nbformat_minor": 2
}
