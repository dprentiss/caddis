{
 "cells": [
  {
   "cell_type": "code",
   "execution_count": 602,
   "metadata": {},
   "outputs": [],
   "source": [
    "import numpy as np\n",
    "import scipy.constants\n",
    "import math"
   ]
  },
  {
   "cell_type": "code",
   "execution_count": 93,
   "metadata": {},
   "outputs": [],
   "source": [
    "class Vector:\n",
    "    def __init__(self, x0, x1, x2):\n",
    "        self.array = np.array([x0, x1, x2])\n",
    "    \n",
    "    def length(self):\n",
    "        return np.linalg.norm(self.array)"
   ]
  },
  {
   "cell_type": "code",
   "execution_count": 1297,
   "metadata": {},
   "outputs": [],
   "source": [
    "class QuantityValue:\n",
    "    def __init__(self, number, reference, standardUncertainty):\n",
    "        self.number = number\n",
    "        self.reference = reference\n",
    "        self.standardUncertainty = abs(standardUncertainty)\n",
    "        self.relativeUncertainty = self.standardUncertainty / abs(self.number)\n",
    "                   \n",
    "    def __str__(self):\n",
    "        exponent = math.floor(math.log10(abs(self.number)))\n",
    "        engExponent = math.floor(exponent / 3) * 3\n",
    "        engMantissa = self.number / 10**engExponent\n",
    "        if self.standardUncertainty != 0:\n",
    "            uncertaintyExponent = math.floor(math.log10(self.standardUncertainty))\n",
    "            uncertaintyMantissa = self.standardUncertainty / 10**(uncertaintyExponent-1)\n",
    "            numDigits = engExponent - uncertaintyExponent + 1\n",
    "            uncertaintyStr = '(' + '{:.0f}'.format(uncertaintyMantissa) + ')'\n",
    "        else:\n",
    "            numDigits = '4'\n",
    "            uncertaintyStr = '(...)'\n",
    "        if engExponent != 0:\n",
    "            exponentStr = 'e' + repr(engExponent)\n",
    "        else:\n",
    "            exponentStr = \"\"\n",
    "        return '{:.{}f}'.format(engMantissa, numDigits) + uncertaintyStr + exponentStr + ' ' + self.reference\n",
    "    \n",
    "    def scale(self, scalar):\n",
    "        return QuantityValue(scalar * self.number,\n",
    "                             self.reference,\n",
    "                             abs(scalar) * self.standardUncertainty)\n",
    "    \n",
    "    def times(self, quantityValue):\n",
    "        return QuantityValue(self.number * quantityValue.number,\n",
    "                             self.reference + quantityValue.reference,\n",
    "                             abs(self.number * quantityValue.number) * math.sqrt(self.relativeUncertainty**2 + quantityValue.relativeUncertainty**2))"
   ]
  },
  {
   "cell_type": "code",
   "execution_count": 1298,
   "metadata": {},
   "outputs": [],
   "source": [
    "def getScipyConstant(key):\n",
    "    return QuantityValue(scipy.constants.value(key),\n",
    "                  scipy.constants.unit(key),\n",
    "                  scipy.constants.precision(key) * abs(scipy.constants.value(key)))"
   ]
  },
  {
   "cell_type": "code",
   "execution_count": 1299,
   "metadata": {},
   "outputs": [],
   "source": [
    "pi = scipy.constants.pi\n",
    "G = getScipyConstant('Newtonian constant of gravitation')\n",
    "c = getScipyConstant('speed of light in vacuum')"
   ]
  },
  {
   "cell_type": "code",
   "execution_count": 1300,
   "metadata": {},
   "outputs": [
    {
     "name": "stdout",
     "output_type": "stream",
     "text": [
      "66.7408(31)e-12 m^3 kg^-1 s^-2\n"
     ]
    }
   ],
   "source": [
    "print(G)"
   ]
  },
  {
   "cell_type": "code",
   "execution_count": 1301,
   "metadata": {},
   "outputs": [
    {
     "name": "stdout",
     "output_type": "stream",
     "text": [
      "133.4816(62)e-12 m^3 kg^-1 s^-2\n"
     ]
    }
   ],
   "source": [
    "print(G.scale(2))"
   ]
  },
  {
   "cell_type": "code",
   "execution_count": 1302,
   "metadata": {},
   "outputs": [],
   "source": [
    "class QuantityDimension:\n",
    "    def __init__(self, L=0, M=0, T=0, I=0, Θ=0, N=0, J=0):\n",
    "        self.L = L\n",
    "        self.M = M\n",
    "        self.T = T\n",
    "        self.I = I\n",
    "        self.Θ = Θ\n",
    "        self.J = J\n",
    " \n",
    "    def getDimensions():\n",
    "        return M"
   ]
  },
  {
   "cell_type": "code",
   "execution_count": 1237,
   "metadata": {},
   "outputs": [],
   "source": [
    "class Quantity:\n",
    "    def __init__(dim):\n",
    "        self.dim = dim"
   ]
  },
  {
   "cell_type": "code",
   "execution_count": 1241,
   "metadata": {},
   "outputs": [],
   "source": [
    "class OrbitalBody:\n",
    "    def __init__(self, mass=0):\n",
    "        self.mass = mass\n",
    "        \n",
    "    meanRadius = QuantityValue(6371.0E3, 'm', 0)"
   ]
  },
  {
   "cell_type": "code",
   "execution_count": 1242,
   "metadata": {},
   "outputs": [],
   "source": [
    "class Planet(OrbitalBody):\n",
    "    def __init__(name):\n",
    "        self.name = name"
   ]
  },
  {
   "cell_type": "code",
   "execution_count": 1243,
   "metadata": {},
   "outputs": [],
   "source": [
    "class Circle:\n",
    "    def __init__(self, v0, v2, v3):\n",
    "        self.orgin = origin\n",
    "        self.radius = radius"
   ]
  },
  {
   "cell_type": "code",
   "execution_count": 1244,
   "metadata": {},
   "outputs": [],
   "source": [
    "class Cylinder:\n",
    "    def __init__(self, radius, thickness, length):\n",
    "        self.radius = radius\n",
    "        self.thickness = thickness\n",
    "        self.length = length\n",
    "\n",
    "    volume = None"
   ]
  },
  {
   "cell_type": "code",
   "execution_count": 1246,
   "metadata": {},
   "outputs": [],
   "source": [
    "Ceres = OrbitalBody(mass = QuantityValue(8.958E20, 'kg', 0))"
   ]
  },
  {
   "cell_type": "code",
   "execution_count": 1247,
   "metadata": {},
   "outputs": [
    {
     "data": {
      "text/plain": [
       "<__main__.QuantityValue at 0x7f993d0d4eb8>"
      ]
     },
     "execution_count": 1247,
     "metadata": {},
     "output_type": "execute_result"
    }
   ],
   "source": [
    "Ceres.meanRadius"
   ]
  },
  {
   "cell_type": "code",
   "execution_count": 1248,
   "metadata": {},
   "outputs": [],
   "source": [
    "linearDensity = 0.01\n",
    "angle = .25\n",
    "altitude = 200E3\n",
    "G = 6.674E-11\n",
    "R_Earth = 6.371E6\n",
    "M_Earth = 5.972E24\n",
    "g = 9.81\n",
    "payload = 2E3\n",
    "tensileStrength = 3.62E9\n",
    "massFlowRate = 1 # kg/s\n",
    "massDepositionEfficiency = .5\n",
    "speed = math.sqrt(G*M_Earth/(R_Earth + altitude))"
   ]
  },
  {
   "cell_type": "code",
   "execution_count": 1249,
   "metadata": {},
   "outputs": [
    {
     "data": {
      "text/plain": [
       "15457.72353145311"
      ]
     },
     "execution_count": 1249,
     "metadata": {},
     "output_type": "execute_result"
    }
   ],
   "source": [
    "linearDensity * speed * speed * angle / g"
   ]
  },
  {
   "cell_type": "code",
   "execution_count": 1250,
   "metadata": {},
   "outputs": [
    {
     "data": {
      "text/plain": [
       "6.451064164605791"
      ]
     },
     "execution_count": 1250,
     "metadata": {},
     "output_type": "execute_result"
    }
   ],
   "source": [
    "(R+altitude) * linearDensity * 2 * math.pi / 64000"
   ]
  },
  {
   "cell_type": "code",
   "execution_count": 1251,
   "metadata": {},
   "outputs": [],
   "source": [
    "def areaTop(payload, density, tensileStrength, altitude):\n",
    "    return payload/tensileStrength * math.exp(density*g/tensileStrength*altitude/(1+altitude/R))"
   ]
  },
  {
   "cell_type": "code",
   "execution_count": 1252,
   "metadata": {},
   "outputs": [
    {
     "data": {
      "text/plain": [
       "1.1774869205451035e-06"
      ]
     },
     "execution_count": 1252,
     "metadata": {},
     "output_type": "execute_result"
    }
   ],
   "source": [
    "areaTop(payload, 1.44E3, tensileStrength, altitude)"
   ]
  },
  {
   "cell_type": "code",
   "execution_count": 1253,
   "metadata": {},
   "outputs": [],
   "source": [
    "def forceTop(payload, density, tensileStrength, altitude):\n",
    "    return payload * math.exp(density*g/tensileStrength*altitude/(1+altitude/R))"
   ]
  },
  {
   "cell_type": "code",
   "execution_count": 1254,
   "metadata": {},
   "outputs": [
    {
     "data": {
      "text/plain": [
       "4262.502652373274"
      ]
     },
     "execution_count": 1254,
     "metadata": {},
     "output_type": "execute_result"
    }
   ],
   "source": [
    "forceTop(payload, 1.44E3, tensileStrength, altitude)"
   ]
  },
  {
   "cell_type": "code",
   "execution_count": 1255,
   "metadata": {},
   "outputs": [
    {
     "data": {
      "text/plain": [
       "41286810.65347706"
      ]
     },
     "execution_count": 1255,
     "metadata": {},
     "output_type": "execute_result"
    }
   ],
   "source": [
    "(R+altitude)*2*math.pi"
   ]
  },
  {
   "cell_type": "code",
   "execution_count": 1256,
   "metadata": {},
   "outputs": [
    {
     "data": {
      "text/plain": [
       "0.2430544566790218"
      ]
     },
     "execution_count": 1256,
     "metadata": {},
     "output_type": "execute_result"
    }
   ],
   "source": [
    "2*math.sqrt(2*50E3/(R+400E3))"
   ]
  },
  {
   "cell_type": "code",
   "execution_count": 1257,
   "metadata": {},
   "outputs": [],
   "source": [
    "totalMass = (R+altitude) * 2 * math.pi "
   ]
  },
  {
   "cell_type": "code",
   "execution_count": 1258,
   "metadata": {},
   "outputs": [
    {
     "data": {
      "text/plain": [
       "955.7132095712282"
      ]
     },
     "execution_count": 1258,
     "metadata": {},
     "output_type": "execute_result"
    }
   ],
   "source": [
    "totalMass * 2 / 60 / 60 / 24"
   ]
  },
  {
   "cell_type": "code",
   "execution_count": 1276,
   "metadata": {},
   "outputs": [],
   "source": [
    "def getallconstants():\n",
    "    for i in scipy.constants.physical_constants:\n",
    "        print(i + \":\", getScipyConstant(i))"
   ]
  },
  {
   "cell_type": "code",
   "execution_count": 1303,
   "metadata": {},
   "outputs": [],
   "source": [
    "x = QuantityValue(2, 'm', 0.001)"
   ]
  },
  {
   "cell_type": "code",
   "execution_count": 1304,
   "metadata": {},
   "outputs": [
    {
     "name": "stdout",
     "output_type": "stream",
     "text": [
      "2.0000(10) m\n"
     ]
    }
   ],
   "source": [
    "print(x)"
   ]
  },
  {
   "cell_type": "code",
   "execution_count": 1310,
   "metadata": {},
   "outputs": [],
   "source": [
    "area = x.scale(-2).times(x.scale(-1))"
   ]
  },
  {
   "cell_type": "code",
   "execution_count": 1311,
   "metadata": {},
   "outputs": [
    {
     "data": {
      "text/plain": [
       "0.00282842712474619"
      ]
     },
     "execution_count": 1311,
     "metadata": {},
     "output_type": "execute_result"
    }
   ],
   "source": [
    "4 * math.sqrt((.001/2)**2 + (.001/2)**2)"
   ]
  },
  {
   "cell_type": "code",
   "execution_count": 1312,
   "metadata": {},
   "outputs": [
    {
     "name": "stdout",
     "output_type": "stream",
     "text": [
      "0.00565685424949238\n"
     ]
    }
   ],
   "source": [
    "print(area.standardUncertainty)"
   ]
  },
  {
   "cell_type": "code",
   "execution_count": 1314,
   "metadata": {},
   "outputs": [
    {
     "name": "stdout",
     "output_type": "stream",
     "text": [
      "8.0000(57) mm\n"
     ]
    }
   ],
   "source": [
    "print(area)"
   ]
  },
  {
   "cell_type": "code",
   "execution_count": null,
   "metadata": {},
   "outputs": [],
   "source": []
  }
 ],
 "metadata": {
  "kernelspec": {
   "display_name": "Python 3",
   "language": "python",
   "name": "python3"
  },
  "language_info": {
   "codemirror_mode": {
    "name": "ipython",
    "version": 3
   },
   "file_extension": ".py",
   "mimetype": "text/x-python",
   "name": "python",
   "nbconvert_exporter": "python",
   "pygments_lexer": "ipython3",
   "version": "3.6.4"
  }
 },
 "nbformat": 4,
 "nbformat_minor": 2
}
