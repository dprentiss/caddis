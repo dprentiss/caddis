{
 "cells": [
  {
   "cell_type": "code",
   "execution_count": 1,
   "metadata": {},
   "outputs": [],
   "source": [
    "%load_ext autoreload\n",
    "%autoreload 2"
   ]
  },
  {
   "cell_type": "code",
   "execution_count": 2,
   "metadata": {},
   "outputs": [],
   "source": [
    "import numpy as np\n",
    "import scipy.constants\n",
    "import math\n",
    "import re\n",
    "from isq import QuantityValue"
   ]
  },
  {
   "cell_type": "code",
   "execution_count": 3,
   "metadata": {},
   "outputs": [],
   "source": [
    "def getScipyConstant(key):\n",
    "    return QuantityValue(scipy.constants.value(key),\n",
    "                  scipy.constants.unit(key),\n",
    "                  scipy.constants.precision(key) * abs(scipy.constants.value(key)))"
   ]
  },
  {
   "cell_type": "code",
   "execution_count": 4,
   "metadata": {},
   "outputs": [],
   "source": [
    "pi = scipy.constants.pi\n",
    "G = getScipyConstant('Newtonian constant of gravitation')\n",
    "c = getScipyConstant('speed of light in vacuum')\n",
    "g = getScipyConstant('standard acceleration of gravity')\n",
    "au = QuantityValue(149597870700, 'm', 0)\n",
    "mu_0 = getScipyConstant('mag. constant')"
   ]
  },
  {
   "cell_type": "markdown",
   "metadata": {},
   "source": [
    "- Mass flow past skyhook, $mV_O$\n",
    "- Velocity change at skyhook, $V_O\\Delta\\theta$\n",
    "- Rate of change of momentum, $mV^2_O\\Delta\\theta$\n",
    "- Resultant force of tension, $F_T = mV^2_O\\Delta\\theta$"
   ]
  },
  {
   "cell_type": "markdown",
   "metadata": {},
   "source": [
    "$P = \\exp(\\frac{-\\rho g H}{Y})$"
   ]
  },
  {
   "cell_type": "markdown",
   "metadata": {},
   "source": [
    "$A_T = A_0 \\exp(\\frac{\\rho g}{Y} \\cdot \\frac{RH}{R+H})$"
   ]
  },
  {
   "cell_type": "code",
   "execution_count": 5,
   "metadata": {},
   "outputs": [],
   "source": [
    "def areaTop(payload, density, tensileStrength, altitude):\n",
    "    return payload * g / tensileStrength * (density * g / tensileStrength * altitude / (1 + altitude / R_Earth)).exp()"
   ]
  },
  {
   "cell_type": "code",
   "execution_count": 6,
   "metadata": {},
   "outputs": [],
   "source": [
    "def forceTop(payload, density, tensileStrength, altitude):\n",
    "    return payload * g * (density * g / tensileStrength * altitude / (1 + altitude / R_Earth)).exp()"
   ]
  },
  {
   "cell_type": "code",
   "execution_count": 7,
   "metadata": {},
   "outputs": [],
   "source": [
    "linearDensity = QuantityValue(.01, 'kg m^-1', 0)\n",
    "angle = QuantityValue(0.25, '1', 0)\n",
    "altitude = QuantityValue(200e3, 'm', 5e3)\n",
    "R_Earth = QuantityValue(6378137, 'm', 2) #WGS84\n",
    "M_Earth = QuantityValue(5.972e24, 'kg', 0)\n",
    "M_Sol = QuantityValue(1.98855e30, 'kg', 0.00025e30)\n",
    "payload = QuantityValue(2e3, 'kg', 0)\n",
    "tensileStrength = QuantityValue(3E9, 'kg m s^-2 m^-2', 0)\n",
    "massFlowRate = 1 # kg/s\n",
    "massDepositionEfficiency = .5\n",
    "speed = (G * M_Earth / (R_Earth + altitude)).sqrt()\n",
    "ladderDensity = QuantityValue(2e3, 'kg m^-3', 500)\n",
    "hookMass = QuantityValue(5e3, 'kg', 2.5e3)\n",
    "P = (-ladderDensity * g / tensileStrength * altitude).exp()\n",
    "ladderMass = payload / P\n",
    "ringMass = ((R_Earth + altitude) * linearDensity * 2 * math.pi)\n",
    "hookLift = linearDensity * speed * speed * angle\n",
    "numHooks = 2\n",
    "totalMass = (ringMass + (numHooks * hookMass) + (numHooks * ladderMass))\n",
    "numLaunches = totalMass / QuantityValue(63800, 'kg launches^-1', 0)\n",
    "force = forceTop(payload, ladderDensity, tensileStrength, altitude)\n",
    "hookLoad = force + hookMass * g * R_Earth*R_Earth/(R_Earth+altitude)/(R_Earth+altitude)\n",
    "area = areaTop(payload, ladderDensity, tensileStrength, altitude)\n",
    "B = QuantityValue(3.5, 'kg A^-1 s^-2', 0)\n",
    "I = QuantityValue(100000, 'A', 0)"
   ]
  },
  {
   "cell_type": "code",
   "execution_count": 8,
   "metadata": {},
   "outputs": [
    {
     "name": "stdout",
     "output_type": "stream",
     "text": [
      "Altitude: 200.0(50)e3 m\n",
      "Ring speed: 7.7840(30)e3 m s^-1\n",
      "Hook capacity: 151.478(82)e3 kg s^-2 m\n",
      "Hook load: 116(32)e3 kg m s^-2\n",
      "Design payload: 2.0000(...)e3 kg\n",
      "\n",
      "Ring mass: 413.32(31)e3 kg\n",
      "Hook mass: 5.0(25)e3 kg\n",
      "Ladder mass: 7.4(24)e3 kg\n",
      "Total mass: 438.1(70)e3 kg\n",
      "\n",
      "Launches: 6.87(11) launches\n"
     ]
    }
   ],
   "source": [
    "print('Altitude: {}\\nRing speed: {}\\nHook capacity: {}\\nHook load: {}\\nDesign payload: {}\\n\\nRing mass: {}\\nHook mass: {}\\nLadder mass: {}\\nTotal mass: {}\\n\\nLaunches: {}'.format(\n",
    "    altitude, speed, hookLift, hookLoad, payload, ringMass, hookMass, ladderMass, totalMass, numLaunches))"
   ]
  },
  {
   "cell_type": "code",
   "execution_count": null,
   "metadata": {},
   "outputs": [],
   "source": []
  }
 ],
 "metadata": {
  "kernelspec": {
   "display_name": "Python 3",
   "language": "python",
   "name": "python3"
  },
  "language_info": {
   "codemirror_mode": {
    "name": "ipython",
    "version": 3
   },
   "file_extension": ".py",
   "mimetype": "text/x-python",
   "name": "python",
   "nbconvert_exporter": "python",
   "pygments_lexer": "ipython3",
   "version": "3.6.4"
  }
 },
 "nbformat": 4,
 "nbformat_minor": 2
}
