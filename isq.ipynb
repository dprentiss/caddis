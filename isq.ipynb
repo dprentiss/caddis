{
 "cells": [
  {
   "cell_type": "code",
   "execution_count": 1,
   "metadata": {},
   "outputs": [],
   "source": [
    "%load_ext autoreload\n",
    "%autoreload 2"
   ]
  },
  {
   "cell_type": "code",
   "execution_count": 66,
   "metadata": {},
   "outputs": [],
   "source": [
    "import isq\n",
    "import math\n",
    "import numpy as np"
   ]
  },
  {
   "cell_type": "code",
   "execution_count": 3,
   "metadata": {},
   "outputs": [],
   "source": [
    "x = isq.m"
   ]
  },
  {
   "cell_type": "code",
   "execution_count": 4,
   "metadata": {},
   "outputs": [
    {
     "data": {
      "text/plain": [
       "L^(1/2)"
      ]
     },
     "execution_count": 4,
     "metadata": {},
     "output_type": "execute_result"
    }
   ],
   "source": [
    "x.quantityDimension.sqrt()"
   ]
  },
  {
   "cell_type": "code",
   "execution_count": 5,
   "metadata": {},
   "outputs": [
    {
     "data": {
      "text/plain": [
       "1.0000(...) m^-1/2"
      ]
     },
     "execution_count": 5,
     "metadata": {},
     "output_type": "execute_result"
    }
   ],
   "source": [
    "x.inv().sqrt()"
   ]
  },
  {
   "cell_type": "code",
   "execution_count": 6,
   "metadata": {},
   "outputs": [
    {
     "data": {
      "text/plain": [
       "1.0000(...) m^3/4"
      ]
     },
     "execution_count": 6,
     "metadata": {},
     "output_type": "execute_result"
    }
   ],
   "source": [
    "((x).sqrt() * x / x).sqrt().inv() * x"
   ]
  },
  {
   "cell_type": "code",
   "execution_count": 7,
   "metadata": {},
   "outputs": [
    {
     "data": {
      "text/plain": [
       "{'m': 1}"
      ]
     },
     "execution_count": 7,
     "metadata": {},
     "output_type": "execute_result"
    }
   ],
   "source": [
    "x.dimDict"
   ]
  },
  {
   "cell_type": "code",
   "execution_count": 8,
   "metadata": {},
   "outputs": [
    {
     "data": {
      "text/plain": [
       "500.0000(...)e-3 m"
      ]
     },
     "execution_count": 8,
     "metadata": {},
     "output_type": "execute_result"
    }
   ],
   "source": [
    "x / 2"
   ]
  },
  {
   "cell_type": "code",
   "execution_count": 9,
   "metadata": {},
   "outputs": [],
   "source": [
    "x = isq.kg * isq.m / isq.s / isq.s"
   ]
  },
  {
   "cell_type": "code",
   "execution_count": 10,
   "metadata": {},
   "outputs": [
    {
     "data": {
      "text/plain": [
       "{'kg': 1, 'm': 1, 's': Fraction(-2, 1)}"
      ]
     },
     "execution_count": 10,
     "metadata": {},
     "output_type": "execute_result"
    }
   ],
   "source": [
    "x.dimDict"
   ]
  },
  {
   "cell_type": "code",
   "execution_count": 11,
   "metadata": {},
   "outputs": [
    {
     "data": {
      "text/plain": [
       "frozenset({('amount of substance', 0),\n",
       "           ('electric current', 0),\n",
       "           ('length', 1),\n",
       "           ('luminous intensity', 0),\n",
       "           ('mass', 1),\n",
       "           ('thermodynamic temperature', 0),\n",
       "           ('time', -2)})"
      ]
     },
     "execution_count": 11,
     "metadata": {},
     "output_type": "execute_result"
    }
   ],
   "source": [
    "x.quantityDimension.baseQuantityExponents"
   ]
  },
  {
   "cell_type": "code",
   "execution_count": 12,
   "metadata": {},
   "outputs": [],
   "source": [
    "R = isq.Pa * isq.m * isq.m * isq.m / isq.mol / isq.temp\n",
    "R"
   ]
  },
  {
   "cell_type": "code",
   "execution_count": 13,
   "metadata": {},
   "outputs": [
    {
     "data": {
      "text/plain": [
       "1.0000(...) kg s^-2 m^2 mol^-1 K^-1"
      ]
     },
     "execution_count": 13,
     "metadata": {},
     "output_type": "execute_result"
    }
   ],
   "source": [
    "isq.Pa * isq.m * isq.m * isq.m / isq.mol / isq.K"
   ]
  },
  {
   "cell_type": "code",
   "execution_count": 14,
   "metadata": {},
   "outputs": [
    {
     "data": {
      "text/plain": [
       "-1.0000(...) kg m s^-2"
      ]
     },
     "execution_count": 14,
     "metadata": {},
     "output_type": "execute_result"
    }
   ],
   "source": [
    "-x"
   ]
  },
  {
   "cell_type": "code",
   "execution_count": 15,
   "metadata": {},
   "outputs": [
    {
     "data": {
      "text/plain": [
       "frozenset({('amount of substance', Fraction(0, 1)),\n",
       "           ('electric current', Fraction(0, 1)),\n",
       "           ('length', Fraction(1, 2)),\n",
       "           ('luminous intensity', Fraction(0, 1)),\n",
       "           ('mass', Fraction(1, 2)),\n",
       "           ('thermodynamic temperature', Fraction(0, 1)),\n",
       "           ('time', Fraction(-1, 1))})"
      ]
     },
     "execution_count": 15,
     "metadata": {},
     "output_type": "execute_result"
    }
   ],
   "source": [
    "x.quantityDimension.sqrt().baseQuantityExponents"
   ]
  },
  {
   "cell_type": "code",
   "execution_count": 16,
   "metadata": {},
   "outputs": [
    {
     "data": {
      "text/plain": [
       "LMT^(-2)"
      ]
     },
     "execution_count": 16,
     "metadata": {},
     "output_type": "execute_result"
    }
   ],
   "source": [
    "x.quantityDimension"
   ]
  },
  {
   "cell_type": "code",
   "execution_count": 17,
   "metadata": {},
   "outputs": [],
   "source": [
    "q = isq.length"
   ]
  },
  {
   "cell_type": "code",
   "execution_count": 18,
   "metadata": {},
   "outputs": [
    {
     "data": {
      "text/plain": [
       "(('length', 'L'),\n",
       " ('mass', 'M'),\n",
       " ('time', 'T'),\n",
       " ('electric current', 'I'),\n",
       " ('thermodynamic temperature', 'Θ'),\n",
       " ('amount of substance', 'N'),\n",
       " ('luminous intensity', 'J'))"
      ]
     },
     "execution_count": 18,
     "metadata": {},
     "output_type": "execute_result"
    }
   ],
   "source": [
    "tuple(dict(q.dimensionSymbols).items())"
   ]
  },
  {
   "cell_type": "code",
   "execution_count": 19,
   "metadata": {},
   "outputs": [
    {
     "data": {
      "text/plain": [
       "L^(2)"
      ]
     },
     "execution_count": 19,
     "metadata": {},
     "output_type": "execute_result"
    }
   ],
   "source": [
    "q * q"
   ]
  },
  {
   "cell_type": "code",
   "execution_count": 23,
   "metadata": {},
   "outputs": [
    {
     "data": {
      "text/plain": [
       "959.3581(...)e3 m"
      ]
     },
     "execution_count": 23,
     "metadata": {},
     "output_type": "execute_result"
    }
   ],
   "source": [
    "3.3E10 * isq.Pa / (9.8 * isq.m / isq.s / isq.s) / (3.51E3 * isq.kg / isq.m / isq.m / isq.m)"
   ]
  },
  {
   "cell_type": "code",
   "execution_count": 99,
   "metadata": {},
   "outputs": [],
   "source": [
    "areas = [r * 2 * math.pi * 4000 for r in range(10, 401)]\n",
    "#areas"
   ]
  },
  {
   "cell_type": "code",
   "execution_count": 92,
   "metadata": {},
   "outputs": [],
   "source": [
    "radii = [r for r in range(10, 401)]"
   ]
  },
  {
   "cell_type": "code",
   "execution_count": 102,
   "metadata": {},
   "outputs": [
    {
     "data": {
      "text/plain": [
       "20145148731879.188"
      ]
     },
     "execution_count": 102,
     "metadata": {},
     "output_type": "execute_result"
    }
   ],
   "source": [
    "sum([r * 2 * math.pi * 4000 for r in range(10, 401, 1)])*10000"
   ]
  },
  {
   "cell_type": "code",
   "execution_count": 94,
   "metadata": {},
   "outputs": [
    {
     "data": {
      "text/plain": [
       "array([ 63.2455532 ,  66.33249581,  69.2820323 ,  72.11102551,\n",
       "        74.83314774,  77.45966692,  80.        ,  82.46211251,\n",
       "        84.85281374,  87.17797887,  89.4427191 ,  91.6515139 ,\n",
       "        93.8083152 ,  95.91663047,  97.97958971, 100.        ,\n",
       "       101.98039027, 103.92304845, 105.83005244, 107.70329614,\n",
       "       109.5445115 , 111.35528726, 113.13708499, 114.89125293,\n",
       "       116.6190379 , 118.32159566, 120.        , 121.65525061,\n",
       "       123.28828006, 124.89995997, 126.49110641, 128.06248475,\n",
       "       129.61481397, 131.14877049, 132.66499161, 134.16407865,\n",
       "       135.64659966, 137.11309201, 138.56406461, 140.        ,\n",
       "       141.42135624, 142.82856857, 144.22205102, 145.60219779,\n",
       "       146.96938457, 148.32396974, 149.66629547, 150.99668871,\n",
       "       152.31546212, 153.62291496, 154.91933385, 156.20499352,\n",
       "       157.48015748, 158.74507866, 160.        , 161.24515497,\n",
       "       162.48076809, 163.70705544, 164.92422502, 166.13247726,\n",
       "       167.33200531, 168.52299546, 169.70562748, 170.88007491,\n",
       "       172.04650534, 173.20508076, 174.35595774, 175.49928775,\n",
       "       176.63521733, 177.76388835, 178.8854382 , 180.        ,\n",
       "       181.10770276, 182.20867158, 183.3030278 , 184.39088915,\n",
       "       185.47236991, 186.54758106, 187.61663039, 188.67962264,\n",
       "       189.73665961, 190.78784028, 191.83326093, 192.87301522,\n",
       "       193.9071943 , 194.9358869 , 195.95917942, 196.97715604,\n",
       "       197.98989873, 198.99748742, 200.        , 200.99751242,\n",
       "       201.99009877, 202.9778313 , 203.96078054, 204.93901532,\n",
       "       205.91260282, 206.88160866, 207.84609691, 208.80613018,\n",
       "       209.76176963, 210.71307506, 211.66010489, 212.60291625,\n",
       "       213.54156504, 214.4761059 , 215.40659229, 216.33307653,\n",
       "       217.25560982, 218.17424229, 219.089023  , 220.        ,\n",
       "       220.90722034, 221.81073013, 222.71057451, 223.60679775,\n",
       "       224.49944321, 225.38855339, 226.27416998, 227.15633383,\n",
       "       228.03508502, 228.91046285, 229.78250586, 230.65125189,\n",
       "       231.51673806, 232.37900077, 233.23807579, 234.09399821,\n",
       "       234.94680249, 235.79652245, 236.64319132, 237.48684174,\n",
       "       238.32750576, 239.16521486, 240.        , 240.83189158,\n",
       "       241.66091947, 242.48711306, 243.31050121, 244.13111231,\n",
       "       244.94897428, 245.76411455, 246.57656012, 247.38633754,\n",
       "       248.19347292, 248.99799196, 249.79991994, 250.59928172,\n",
       "       251.3961018 , 252.19040426, 252.98221281, 253.77155081,\n",
       "       254.55844123, 255.3429067 , 256.1249695 , 256.90465157,\n",
       "       257.68197453, 258.45695967, 259.22962794, 260.        ,\n",
       "       260.76809621, 261.53393661, 262.29754097, 263.05892876,\n",
       "       263.81811917, 264.57513111, 265.32998323, 266.08269391,\n",
       "       266.83328128, 267.58176321, 268.3281573 , 269.07248094,\n",
       "       269.81475126, 270.55498517, 271.29319933, 272.02941017,\n",
       "       272.76363394, 273.49588662, 274.22618402, 274.9545417 ,\n",
       "       275.68097504, 276.40549922, 277.12812921, 277.84887979,\n",
       "       278.56776554, 279.28480088, 280.        , 280.71337695,\n",
       "       281.42494559, 282.13471959, 282.84271247, 283.54893758,\n",
       "       284.25340807, 284.95613698, 285.65713714, 286.35642127,\n",
       "       287.05400189, 287.7498914 , 288.44410204, 289.1366459 ,\n",
       "       289.82753492, 290.51678093, 291.20439557, 291.89039039,\n",
       "       292.57477677, 293.25756597, 293.93876913, 294.61839725,\n",
       "       295.2964612 , 295.97297174, 296.64793948, 297.32137495,\n",
       "       297.99328852, 298.66369046, 299.33259094, 300.        ,\n",
       "       300.66592757, 301.33038347, 301.99337741, 302.65491901,\n",
       "       303.31501776, 303.97368307, 304.63092423, 305.28675045,\n",
       "       305.94117082, 306.59419434, 307.24582991, 307.89608637,\n",
       "       308.54497241, 309.19249667, 309.8386677 , 310.48349393,\n",
       "       311.12698372, 311.76914536, 312.40998704, 313.04951685,\n",
       "       313.68774283, 314.32467291, 314.96031496, 315.59467676,\n",
       "       316.22776602, 316.85959036, 317.49015733, 318.11947441,\n",
       "       318.74754901, 319.37438845, 320.        , 320.62439084,\n",
       "       321.24756808, 321.86953879, 322.49030993, 323.10988843,\n",
       "       323.72828112, 324.3454948 , 324.96153619, 325.57641192,\n",
       "       326.19012861, 326.80269277, 327.41411087, 328.02438934,\n",
       "       328.6335345 , 329.24155266, 329.84845005, 330.45423284,\n",
       "       331.05890714, 331.66247904, 332.26495452, 332.86633954,\n",
       "       333.46664001, 334.06586177, 334.66401061, 335.26109228,\n",
       "       335.85711247, 336.45207683, 337.04599093, 337.63886032,\n",
       "       338.23069051, 338.82148692, 339.41125497, 340.        ,\n",
       "       340.58772732, 341.17444218, 341.76014981, 342.34485537,\n",
       "       342.92856399, 343.51128075, 344.09301068, 344.67375879,\n",
       "       345.25353003, 345.83232932, 346.41016151, 346.98703146,\n",
       "       347.56294394, 348.13790371, 348.71191548, 349.28498393,\n",
       "       349.85711369, 350.42830936, 350.9985755 , 351.56791662,\n",
       "       352.13633723, 352.70384177, 353.27043465, 353.83612026,\n",
       "       354.40090293, 354.96478699, 355.52777669, 356.0898763 ,\n",
       "       356.65109   , 357.21142199, 357.7708764 , 358.32945734,\n",
       "       358.8871689 , 359.44401511, 360.        , 360.55512755,\n",
       "       361.10940171, 361.6628264 , 362.21540553, 362.76714294,\n",
       "       363.31804249, 363.86810797, 364.41734317, 364.96575182,\n",
       "       365.51333765, 366.06010435, 366.6060556 , 367.15119501,\n",
       "       367.69552622, 368.23905279, 368.78177829, 369.32370625,\n",
       "       369.86484018, 370.40518355, 370.94473982, 371.48351242,\n",
       "       372.02150475, 372.5587202 , 373.09516212, 373.63083385,\n",
       "       374.16573868, 374.6998799 , 375.23326079, 375.76588456,\n",
       "       376.29775444, 376.82887363, 377.35924528, 377.88887255,\n",
       "       378.41775857, 378.94590643, 379.47331922, 380.        ,\n",
       "       380.52595181, 381.05117767, 381.57568057, 382.09946349,\n",
       "       382.62252939, 383.14488121, 383.66652187, 384.18745425,\n",
       "       384.70768123, 385.22720569, 385.74603044, 386.26415832,\n",
       "       386.78159212, 387.29833462, 387.81438859, 388.32975678,\n",
       "       388.8444419 , 389.35844668, 389.87177379, 390.38442592,\n",
       "       390.89640571, 391.40771582, 391.91835885, 392.42833741,\n",
       "       392.93765409, 393.44631146, 393.95431207, 394.46165847,\n",
       "       394.96835316, 395.47439867, 395.97979746, 396.48455203,\n",
       "       396.98866483, 397.49213829, 397.99497484, 398.4971769 ,\n",
       "       398.99874687, 399.49968711, 400.        ])"
      ]
     },
     "execution_count": 94,
     "metadata": {},
     "output_type": "execute_result"
    }
   ],
   "source": [
    "np.sqrt(1/(np.array([r for r in range(10, 401)])/np.array([400 for r in range(10,401)])))*radii"
   ]
  },
  {
   "cell_type": "code",
   "execution_count": 100,
   "metadata": {},
   "outputs": [
    {
     "data": {
      "text/plain": [
       "0.015"
      ]
     },
     "execution_count": 100,
     "metadata": {},
     "output_type": "execute_result"
    }
   ],
   "source": [
    "150/10000"
   ]
  },
  {
   "cell_type": "code",
   "execution_count": null,
   "metadata": {},
   "outputs": [],
   "source": []
  }
 ],
 "metadata": {
  "kernelspec": {
   "display_name": "Python 3",
   "language": "python",
   "name": "python3"
  },
  "language_info": {
   "codemirror_mode": {
    "name": "ipython",
    "version": 3
   },
   "file_extension": ".py",
   "mimetype": "text/x-python",
   "name": "python",
   "nbconvert_exporter": "python",
   "pygments_lexer": "ipython3",
   "version": "3.7.4"
  }
 },
 "nbformat": 4,
 "nbformat_minor": 4
}
