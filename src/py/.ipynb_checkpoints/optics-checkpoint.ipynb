{
 "cells": [
  {
   "cell_type": "code",
   "execution_count": 1,
   "metadata": {},
   "outputs": [],
   "source": [
    "%load_ext autoreload\n",
    "%autoreload 2"
   ]
  },
  {
   "cell_type": "code",
   "execution_count": 2,
   "metadata": {},
   "outputs": [
    {
     "name": "stdout",
     "output_type": "stream",
     "text": [
      "['m', 1]\n",
      "['kg', 1]\n",
      "['s', 1]\n",
      "['A', 1]\n",
      "['K', 1]\n",
      "['mol', 1]\n",
      "['cd', 1]\n",
      "['kg', 1]\n",
      "['m', 1]\n",
      "['s', Fraction(-1, 1)]\n",
      "['kg', 1]\n",
      "['m', 1]\n",
      "['s', Fraction(-1, 1)]\n",
      "['s', Fraction(-1, 1)]\n",
      "['kg', 1]\n",
      "['m', 1]\n",
      "['s', Fraction(-1, 1)]\n",
      "['s', Fraction(-1, 1)]\n",
      "['m', Fraction(-1, 1)]\n",
      "['kg', 1]\n",
      "['m', Fraction(-1, 1)]\n",
      "['s', Fraction(-1, 1)]\n",
      "['kg', 1]\n",
      "['m', Fraction(-1, 1)]\n",
      "['s', Fraction(-1, 1)]\n",
      "['s', Fraction(-1, 1)]\n",
      "['kg', 1]\n",
      "['m', Fraction(-1, 1)]\n",
      "['s', Fraction(-1, 1)]\n",
      "['s', Fraction(-1, 1)]\n",
      "['kg', 1]\n",
      "['m', 1]\n",
      "['kg', 1]\n",
      "['m', 1]\n",
      "['m', 1]\n",
      "['s', Fraction(-1, 1)]\n",
      "['kg', 1]\n",
      "['m', Fraction(2, 1)]\n",
      "['s', Fraction(-1, 1)]\n",
      "['s', Fraction(-1, 1)]\n",
      "['kg', 1]\n",
      "['m', Fraction(2, 1)]\n",
      "['s', Fraction(-1, 1)]\n",
      "['s', Fraction(-1, 1)]\n",
      "['s', Fraction(-1, 1)]\n",
      "['kg', 1]\n",
      "['m', Fraction(2, 1)]\n",
      "['s', Fraction(-2, 1)]\n",
      "['s', Fraction(-1, 1)]\n",
      "['A', Fraction(-1, 1)]\n",
      "['kg', 1]\n",
      "['m', Fraction(2, 1)]\n",
      "['s', Fraction(-3, 1)]\n",
      "['A', Fraction(-1, 1)]\n",
      "['kg', 1]\n",
      "['m', 1]\n",
      "['kg', 1]\n",
      "['m', 1]\n",
      "['m', 1]\n",
      "['s', Fraction(-1, 1)]\n",
      "['kg', 1]\n",
      "['m', Fraction(2, 1)]\n",
      "['s', Fraction(-1, 1)]\n",
      "['s', Fraction(-1, 1)]\n",
      "['kg', 1]\n",
      "['m', Fraction(2, 1)]\n",
      "['s', Fraction(-1, 1)]\n",
      "['s', Fraction(-1, 1)]\n",
      "['s', Fraction(-1, 1)]\n",
      "['kg', 1]\n",
      "['m', Fraction(2, 1)]\n",
      "['s', Fraction(-2, 1)]\n",
      "['s', Fraction(-1, 1)]\n",
      "['kg', 1]\n",
      "['m', 1]\n",
      "['kg', 1]\n",
      "['m', 1]\n",
      "['m', 1]\n",
      "['s', Fraction(-1, 1)]\n",
      "['kg', 1]\n",
      "['m', Fraction(2, 1)]\n",
      "['s', Fraction(-1, 1)]\n",
      "['s', Fraction(-1, 1)]\n",
      "['kg', 1]\n",
      "['m', Fraction(2, 1)]\n",
      "['s', Fraction(-1, 1)]\n",
      "['s', Fraction(-1, 1)]\n",
      "['s', Fraction(-1, 1)]\n"
     ]
    }
   ],
   "source": [
    "import numpy as np\n",
    "import scipy.constants\n",
    "import math\n",
    "import re\n",
    "import isq\n",
    "from isq import QuantityValue"
   ]
  },
  {
   "cell_type": "code",
   "execution_count": 3,
   "metadata": {},
   "outputs": [],
   "source": [
    "def getScipyConstant(key):\n",
    "    return QuantityValue(scipy.constants.value(key),\n",
    "                  scipy.constants.unit(key),\n",
    "                  scipy.constants.precision(key) * abs(scipy.constants.value(key)))"
   ]
  },
  {
   "cell_type": "code",
   "execution_count": 4,
   "metadata": {},
   "outputs": [
    {
     "name": "stdout",
     "output_type": "stream",
     "text": [
      "['m', Fraction(3, 1)]\n",
      "['kg', Fraction(-1, 1)]\n",
      "['s', Fraction(-2, 1)]\n",
      "['m', 1]\n",
      "['s', Fraction(-1, 1)]\n",
      "['m', 1]\n",
      "['s', Fraction(-2, 1)]\n",
      "['m', 1]\n",
      "['N', 1]\n",
      "['A', Fraction(-2, 1)]\n"
     ]
    }
   ],
   "source": [
    "pi = scipy.constants.pi\n",
    "G = getScipyConstant('Newtonian constant of gravitation')\n",
    "c = getScipyConstant('speed of light in vacuum')\n",
    "g = getScipyConstant('standard acceleration of gravity')\n",
    "au = QuantityValue(149597870700, 'm', 0)\n",
    "mu_0 = getScipyConstant('mag. constant')"
   ]
  },
  {
   "cell_type": "code",
   "execution_count": 5,
   "metadata": {
    "tags": []
   },
   "outputs": [
    {
     "data": {
      "text/plain": [
       "1.25663706212(19) μN A^-2"
      ]
     },
     "execution_count": 5,
     "metadata": {},
     "output_type": "execute_result"
    }
   ],
   "source": [
    "mu_0"
   ]
  },
  {
   "cell_type": "code",
   "execution_count": 6,
   "metadata": {
    "tags": []
   },
   "outputs": [
    {
     "data": {
      "text/plain": [
       "frozenset({('amount of substance', 0),\n",
       "           ('electric current', 0),\n",
       "           ('length', 0),\n",
       "           ('luminous intensity', 0),\n",
       "           ('mass', 0),\n",
       "           ('thermodynamic temperature', 0),\n",
       "           ('time', 0)})"
      ]
     },
     "execution_count": 6,
     "metadata": {},
     "output_type": "execute_result"
    }
   ],
   "source": [
    "mu_0.quantityDimension.baseQuantityExponents"
   ]
  },
  {
   "cell_type": "code",
   "execution_count": 7,
   "metadata": {
    "tags": []
   },
   "outputs": [],
   "source": [
    "v = isq.V"
   ]
  },
  {
   "cell_type": "code",
   "execution_count": 8,
   "metadata": {
    "tags": []
   },
   "outputs": [
    {
     "data": {
      "text/plain": [
       "1.0000(...) V"
      ]
     },
     "execution_count": 8,
     "metadata": {},
     "output_type": "execute_result"
    }
   ],
   "source": [
    "v"
   ]
  },
  {
   "cell_type": "code",
   "execution_count": 9,
   "metadata": {
    "tags": []
   },
   "outputs": [
    {
     "data": {
      "text/plain": [
       "frozenset({('amount of substance', 0),\n",
       "           ('electric current', -1),\n",
       "           ('length', 2),\n",
       "           ('luminous intensity', 0),\n",
       "           ('mass', 1),\n",
       "           ('thermodynamic temperature', 0),\n",
       "           ('time', -3)})"
      ]
     },
     "execution_count": 9,
     "metadata": {},
     "output_type": "execute_result"
    }
   ],
   "source": [
    "v.quantityDimension.baseQuantityExponents"
   ]
  },
  {
   "cell_type": "code",
   "execution_count": 10,
   "metadata": {
    "tags": []
   },
   "outputs": [
    {
     "data": {
      "text/plain": [
       "<filter at 0x187fa183f70>"
      ]
     },
     "execution_count": 10,
     "metadata": {},
     "output_type": "execute_result"
    }
   ],
   "source": [
    "v.dimList"
   ]
  },
  {
   "cell_type": "code",
   "execution_count": 11,
   "metadata": {
    "tags": []
   },
   "outputs": [
    {
     "data": {
      "text/plain": [
       "{'kg': 1, 'm': Fraction(2, 1), 's': Fraction(-3, 1), 'A': Fraction(-1, 1)}"
      ]
     },
     "execution_count": 11,
     "metadata": {},
     "output_type": "execute_result"
    }
   ],
   "source": [
    "v.dimDict"
   ]
  },
  {
   "cell_type": "code",
   "execution_count": 12,
   "metadata": {
    "tags": []
   },
   "outputs": [],
   "source": [
    "t = isq.length * isq.length * isq.mass"
   ]
  },
  {
   "cell_type": "code",
   "execution_count": 13,
   "metadata": {
    "tags": []
   },
   "outputs": [
    {
     "data": {
      "text/plain": [
       "L^(2)M"
      ]
     },
     "execution_count": 13,
     "metadata": {},
     "output_type": "execute_result"
    }
   ],
   "source": [
    "t"
   ]
  },
  {
   "cell_type": "code",
   "execution_count": 14,
   "metadata": {},
   "outputs": [
    {
     "name": "stdout",
     "output_type": "stream",
     "text": [
      "['m', 1]\n"
     ]
    }
   ],
   "source": [
    "l = QuantityValue(1, 'm')"
   ]
  },
  {
   "cell_type": "code",
   "execution_count": 15,
   "metadata": {
    "tags": []
   },
   "outputs": [
    {
     "data": {
      "text/plain": [
       "frozenset({('amount of substance', 0),\n",
       "           ('electric current', 0),\n",
       "           ('length', 0),\n",
       "           ('luminous intensity', 0),\n",
       "           ('mass', 0),\n",
       "           ('thermodynamic temperature', 0),\n",
       "           ('time', 0)})"
      ]
     },
     "execution_count": 15,
     "metadata": {},
     "output_type": "execute_result"
    }
   ],
   "source": [
    "l.quantityDimension.baseQuantityExponents"
   ]
  },
  {
   "cell_type": "code",
   "execution_count": 16,
   "metadata": {
    "tags": []
   },
   "outputs": [
    {
     "data": {
      "text/plain": [
       "1.0000(...) m"
      ]
     },
     "execution_count": 16,
     "metadata": {},
     "output_type": "execute_result"
    }
   ],
   "source": [
    "l"
   ]
  },
  {
   "cell_type": "code",
   "execution_count": 18,
   "metadata": {
    "tags": []
   },
   "outputs": [],
   "source": [
    "d = isq.QuantityDimension()"
   ]
  },
  {
   "cell_type": "code",
   "execution_count": 22,
   "metadata": {
    "tags": []
   },
   "outputs": [
    {
     "data": {
      "text/plain": [
       "frozenset({('amount of substance', 0),\n",
       "           ('electric current', 0),\n",
       "           ('length', 0),\n",
       "           ('luminous intensity', 0),\n",
       "           ('mass', 0),\n",
       "           ('thermodynamic temperature', 0),\n",
       "           ('time', 0)})"
      ]
     },
     "execution_count": 22,
     "metadata": {},
     "output_type": "execute_result"
    }
   ],
   "source": [
    "c.quantityDimension.baseQuantityExponents"
   ]
  },
  {
   "cell_type": "code",
   "execution_count": 36,
   "metadata": {
    "tags": []
   },
   "outputs": [
    {
     "data": {
      "text/plain": [
       "[['m'], ['s', '-1']]"
      ]
     },
     "execution_count": 36,
     "metadata": {},
     "output_type": "execute_result"
    }
   ],
   "source": [
    "c.referenceList"
   ]
  },
  {
   "cell_type": "code",
   "execution_count": 37,
   "metadata": {
    "tags": []
   },
   "outputs": [
    {
     "data": {
      "text/plain": [
       "{'m': 1, 's': Fraction(-1, 1)}"
      ]
     },
     "execution_count": 37,
     "metadata": {},
     "output_type": "execute_result"
    }
   ],
   "source": [
    "c.dimDict"
   ]
  },
  {
   "cell_type": "code",
   "execution_count": 39,
   "metadata": {
    "tags": []
   },
   "outputs": [
    {
     "data": {
      "text/plain": [
       "1"
      ]
     },
     "execution_count": 39,
     "metadata": {},
     "output_type": "execute_result"
    }
   ],
   "source": [
    "c.dimDict['m']"
   ]
  },
  {
   "cell_type": "code",
   "execution_count": null,
   "metadata": {},
   "outputs": [],
   "source": []
  },
  {
   "cell_type": "code",
   "execution_count": 51,
   "metadata": {
    "tags": []
   },
   "outputs": [
    {
     "name": "stdout",
     "output_type": "stream",
     "text": [
      "m L\n",
      "s T\n"
     ]
    }
   ],
   "source": [
    "for dim in c.dimDict:\n",
    "    print(dim, isq.symbolBaseUnits[dim])"
   ]
  },
  {
   "cell_type": "code",
   "execution_count": 41,
   "metadata": {
    "tags": []
   },
   "outputs": [],
   "source": [
    "exponents = {\n",
    "            'length': 0,\n",
    "            'mass': 0,\n",
    "            'time': 0,\n",
    "            'electric current': 0,\n",
    "            'thermodynamic temperature': 0,\n",
    "            'amount of substance': 0,\n",
    "            'luminous intensity': 0\n",
    "        }"
   ]
  },
  {
   "cell_type": "code",
   "execution_count": 42,
   "metadata": {
    "tags": []
   },
   "outputs": [
    {
     "data": {
      "text/plain": [
       "{'length': 0,\n",
       " 'mass': 0,\n",
       " 'time': 0,\n",
       " 'electric current': 0,\n",
       " 'thermodynamic temperature': 0,\n",
       " 'amount of substance': 0,\n",
       " 'luminous intensity': 0}"
      ]
     },
     "execution_count": 42,
     "metadata": {},
     "output_type": "execute_result"
    }
   ],
   "source": [
    "exponents"
   ]
  },
  {
   "cell_type": "code",
   "execution_count": 43,
   "metadata": {
    "tags": []
   },
   "outputs": [
    {
     "data": {
      "text/plain": [
       "{'m': L, 'kg': M, 's': T, 'A': I, 'K': Θ, 'mol': N, 'cd': J}"
      ]
     },
     "execution_count": 43,
     "metadata": {},
     "output_type": "execute_result"
    }
   ],
   "source": [
    "isq.symbolBaseUnits"
   ]
  },
  {
   "cell_type": "code",
   "execution_count": 46,
   "metadata": {
    "tags": []
   },
   "outputs": [
    {
     "data": {
      "text/plain": [
       "L^(2)M"
      ]
     },
     "execution_count": 46,
     "metadata": {},
     "output_type": "execute_result"
    }
   ],
   "source": [
    "isq.length * isq.length * isq.mass"
   ]
  },
  {
   "cell_type": "code",
   "execution_count": null,
   "metadata": {},
   "outputs": [],
   "source": []
  }
 ],
 "metadata": {
  "kernelspec": {
   "display_name": "Python 3 (ipykernel)",
   "language": "python",
   "name": "python3"
  },
  "language_info": {
   "codemirror_mode": {
    "name": "ipython",
    "version": 3
   },
   "file_extension": ".py",
   "mimetype": "text/x-python",
   "name": "python",
   "nbconvert_exporter": "python",
   "pygments_lexer": "ipython3",
   "version": "3.11.3"
  }
 },
 "nbformat": 4,
 "nbformat_minor": 4
}
